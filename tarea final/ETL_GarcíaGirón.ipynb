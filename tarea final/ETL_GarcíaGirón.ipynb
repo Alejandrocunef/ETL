{
 "cells": [
  {
   "cell_type": "code",
   "execution_count": null,
   "metadata": {
    "id": "HvIEPI4A6Deq"
   },
   "outputs": [],
   "source": [
    "#Alejandro García Girón\n",
    "#Pegamos estos comandos para abrir un entorno spark en la nube"
   ]
  },
  {
   "cell_type": "code",
   "execution_count": null,
   "metadata": {
    "id": "nyW8QqDLWNY1"
   },
   "outputs": [],
   "source": [
    "!apt-get install openjdk-8-jdk-headless -qq > /dev/null\n",
    "!wget -q https://www-us.apache.org/dist/spark/spark-2.4.7/spark-2.4.7-bin-hadoop2.7.tgz\n",
    "!tar xf spark-2.4.7-bin-hadoop2.7.tgz\n",
    "!pip install -q findspark"
   ]
  },
  {
   "cell_type": "code",
   "execution_count": null,
   "metadata": {
    "id": "3ux692EEXiBj"
   },
   "outputs": [],
   "source": [
    "import os\n",
    "os.environ[\"JAVA_HOME\"] = \"/usr/lib/jvm/java-8-openjdk-amd64\"\n",
    "os.environ[\"SPARK_HOME\"] = \"/content/spark-2.4.7-bin-hadoop2.7\""
   ]
  },
  {
   "cell_type": "code",
   "execution_count": null,
   "metadata": {
    "id": "P75TRMD9XiEf"
   },
   "outputs": [],
   "source": [
    "import findspark\n",
    "findspark.init()\n",
    "from pyspark import SparkContext\n",
    "sc = SparkContext.getOrCreate()\n",
    "from pyspark.sql import SparkSession\n",
    "spark = SparkSession.builder.master(\"local[*]\").getOrCreate()"
   ]
  },
  {
   "cell_type": "markdown",
   "metadata": {
    "id": "QugqxbAawYla"
   },
   "source": [
    ". Inicializar y cargar el contexto spark\n",
    "2. Número de países distintos en cada dataset. Coinciden?\n",
    "3. Total de deuda contraida por cada pais: total amount of debt (in USD) DT.AMT.MLAT.CD\n",
    "4. Media de los indicadores de deuda (tabla uno): DT.AMT.BLAT.CD, DT.DIS.BLAT.CD, DT.INT.BLAT.CD\n",
    "5. Los 20 paises con DT.AMT.DLXF.CD más alto\n",
    "6. Pais con los datos informados todos los años.\n",
    "7. Media anual de los distintos indicadores de desarrollo\n",
    "8. Podrías decirme el total de deuda acumulada DT.AMT.MLAT.CD por los 10 países con un valor en media menor de SP.DYN.CBRT.IN¶\n",
    "9. ¿Hay alguna relación entre los nacimientos y el indicador DT.AMT.DLXF.CD? ¿Cómo podrías demostrarlo?"
   ]
  },
  {
   "cell_type": "code",
   "execution_count": null,
   "metadata": {
    "id": "NOzqUOelXiHh"
   },
   "outputs": [],
   "source": [
    "#Cargamos los datos\n"
   ]
  },
  {
   "cell_type": "code",
   "execution_count": null,
   "metadata": {
    "id": "HFrSZDATXiNQ"
   },
   "outputs": [],
   "source": [
    "deuda = sc.textFile('indicadores_deuda.csv')\n",
    "desarrollo = sc.textFile('indicadores_desarrollo.csv')"
   ]
  },
  {
   "cell_type": "code",
   "execution_count": null,
   "metadata": {
    "colab": {
     "base_uri": "https://localhost:8080/"
    },
    "id": "QVHUN88RXiQw",
    "outputId": "55afa7cd-88dd-4352-821d-14de25803a5e"
   },
   "outputs": [
    {
     "data": {
      "text/plain": [
       "125"
      ]
     },
     "execution_count": 6,
     "metadata": {
      "tags": []
     },
     "output_type": "execute_result"
    }
   ],
   "source": [
    "deuda.count() "
   ]
  },
  {
   "cell_type": "markdown",
   "metadata": {
    "id": "wq3z9xsf3Iap"
   },
   "source": [
    "Tratamiento de los datos"
   ]
  },
  {
   "cell_type": "code",
   "execution_count": null,
   "metadata": {
    "colab": {
     "base_uri": "https://localhost:8080/",
     "height": 70
    },
    "id": "wCRoe9iHgDdG",
    "outputId": "a2cee106-136e-45c8-a75b-f8568d7ae342"
   },
   "outputs": [
    {
     "data": {
      "application/vnd.google.colaboratory.intrinsic+json": {
       "type": "string"
      },
      "text/plain": [
       "'country_name,country_code,DT.AMT.BLAT.CD,DT.AMT.DLXF.CD,DT.AMT.DPNG.CD,DT.AMT.MLAT.CD,DT.AMT.OFFT.CD,DT.AMT.PBND.CD,DT.AMT.PCBK.CD,DT.AMT.PROP.CD,DT.AMT.PRVT.CD,DT.DIS.BLAT.CD,DT.DIS.DLXF.CD,DT.DIS.MLAT.CD,DT.DIS.OFFT.CD,DT.DIS.PCBK.CD,DT.DIS.PROP.CD,DT.DIS.PRVT.CD,DT.INT.BLAT.CD,DT.INT.DLXF.CD,DT.INT.DPNG.CD,DT.INT.MLAT.CD,DT.INT.OFFT.CD,DT.INT.PBND.CD,DT.INT.PCBK.CD,DT.INT.PROP.CD,DT.INT.PRVT.CD'"
      ]
     },
     "execution_count": 7,
     "metadata": {
      "tags": []
     },
     "output_type": "execute_result"
    }
   ],
   "source": [
    "deuda.max()"
   ]
  },
  {
   "cell_type": "code",
   "execution_count": null,
   "metadata": {
    "id": "CXEZatZ2gDsb"
   },
   "outputs": [],
   "source": [
    "#Parseado de los datos y limpieza\n",
    "\n",
    "#Separamos las bases de datos por comas ','\n",
    "alfa_deuda = deuda.map(lambda x :x.split(\",\"))\n",
    "alfa_desarrollo = desarrollo.map(lambda x: x.split(\",\"))     \n",
    "\n"
   ]
  },
  {
   "cell_type": "code",
   "execution_count": null,
   "metadata": {
    "id": "-zcB0Xyl2D0x"
   },
   "outputs": [],
   "source": [
    "headerout = alfa_desarrollo.first() # quitamos encabezados de desarrollo                                           \n",
    "beta_desarrollo = alfa_desarrollo.filter(lambda x : x != headerout) "
   ]
  },
  {
   "cell_type": "code",
   "execution_count": null,
   "metadata": {
    "id": "P73k6IFVgDwE"
   },
   "outputs": [],
   "source": [
    "headerout1 = alfa_deuda.first()                                            \n",
    "beta_deuda = alfa_deuda.filter(lambda x : x != headerout1) #quitamos los encabezados, darán problemas"
   ]
  },
  {
   "cell_type": "code",
   "execution_count": null,
   "metadata": {
    "id": "Gm-Gbmpg5Wk_"
   },
   "outputs": [],
   "source": [
    "beta_desarrollo.take(7) #vemos que lo anterior se ejecuto bien"
   ]
  },
  {
   "cell_type": "code",
   "execution_count": null,
   "metadata": {
    "id": "k_4-hPBP5W8Q"
   },
   "outputs": [],
   "source": [
    "#mecanismo par cerciorarnos de las longitudes de las bbdd"
   ]
  },
  {
   "cell_type": "markdown",
   "metadata": {
    "id": "4mksXRYE8ZHj"
   },
   "source": [
    "Mecanismo par cerciorarnos de las longitudes de las bbdd"
   ]
  },
  {
   "cell_type": "code",
   "execution_count": null,
   "metadata": {
    "colab": {
     "base_uri": "https://localhost:8080/"
    },
    "id": "aghtieXe5W_V",
    "outputId": "1410d207-4fc2-4f69-88a3-516dcfdd5907"
   },
   "outputs": [
    {
     "data": {
      "text/plain": [
       "2"
      ]
     },
     "execution_count": 19,
     "metadata": {
      "tags": []
     },
     "output_type": "execute_result"
    }
   ],
   "source": [
    "beta_desarrollo.map(lambda x: (len(x))).distinct().count() "
   ]
  },
  {
   "cell_type": "code",
   "execution_count": null,
   "metadata": {
    "colab": {
     "base_uri": "https://localhost:8080/"
    },
    "id": "2FTMj5Ud5XCu",
    "outputId": "31d5aaff-6d7b-43ef-892d-127c9c48b10f"
   },
   "outputs": [
    {
     "data": {
      "text/plain": [
       "2"
      ]
     },
     "execution_count": 21,
     "metadata": {
      "tags": []
     },
     "output_type": "execute_result"
    }
   ],
   "source": [
    "beta_deuda.map(lambda x: (len(x))).distinct().count() "
   ]
  },
  {
   "cell_type": "code",
   "execution_count": null,
   "metadata": {
    "colab": {
     "base_uri": "https://localhost:8080/"
    },
    "id": "HgfQvJAz5XFO",
    "outputId": "f7b49022-d68c-4da8-94b7-abad71d625c5"
   },
   "outputs": [
    {
     "data": {
      "text/plain": [
       "[(27, ['Afghanistan', 'AFG']),\n",
       " (27, ['Albania', 'ALB']),\n",
       " (27, ['Algeria', 'DZA']),\n",
       " (27, ['Angola', 'AGO']),\n",
       " (27, ['Armenia', 'ARM'])]"
      ]
     },
     "execution_count": 24,
     "metadata": {
      "tags": []
     },
     "output_type": "execute_result"
    }
   ],
   "source": [
    " # vemos el tamño por fila de los primeros registros\n",
    "beta_deuda.map(lambda x: (len(x),x[0:2])).take(5)    "
   ]
  },
  {
   "cell_type": "code",
   "execution_count": null,
   "metadata": {
    "colab": {
     "base_uri": "https://localhost:8080/"
    },
    "id": "P_xq2Ruy5XI7",
    "outputId": "fbeae1f8-3800-47c3-eaec-988fb9298aaa"
   },
   "outputs": [
    {
     "data": {
      "text/plain": [
       "[(6, ['Albania', 'ALB']),\n",
       " (6, ['Albania', 'ALB']),\n",
       " (6, ['Albania', 'ALB']),\n",
       " (6, ['Australia', 'AUS']),\n",
       " (6, ['Australia', 'AUS'])]"
      ]
     },
     "execution_count": 25,
     "metadata": {
      "tags": []
     },
     "output_type": "execute_result"
    }
   ],
   "source": [
    "#idem cambiando la bbdd\n",
    "beta_desarrollo.map(lambda x: (len(x),x[0:2])).take(5)    "
   ]
  },
  {
   "cell_type": "code",
   "execution_count": null,
   "metadata": {
    "colab": {
     "base_uri": "https://localhost:8080/"
    },
    "id": "UW1poptb5XLv",
    "outputId": "3952279a-4814-4152-f857-fdebdc3bdc1d"
   },
   "outputs": [
    {
     "data": {
      "text/plain": [
       "[(6,\n",
       "  ['Albania',\n",
       "   'ALB',\n",
       "   '2014 [YR2014]',\n",
       "   '1023040800000',\n",
       "   '73.3202469198429',\n",
       "   '12.259']),\n",
       " (6,\n",
       "  ['Albania',\n",
       "   'ALB',\n",
       "   '2015 [YR2015]',\n",
       "   '1145500940000',\n",
       "   '79.8644448747259',\n",
       "   '12.197']),\n",
       " (6,\n",
       "  ['Albania',\n",
       "   'ALB',\n",
       "   '2016 [YR2016]',\n",
       "   '1188814490000',\n",
       "   '80.7355748396923',\n",
       "   '12.08']),\n",
       " (6,\n",
       "  ['Australia',\n",
       "   'AUS',\n",
       "   '2014 [YR2014]',\n",
       "   '674700000',\n",
       "   '0.042207528166503',\n",
       "   '13.2']),\n",
       " (6,\n",
       "  ['Australia',\n",
       "   'AUS',\n",
       "   '2015 [YR2015]',\n",
       "   '762718000',\n",
       "   '0.0469480198522591',\n",
       "   '12.9']),\n",
       " (6,\n",
       "  ['Australia',\n",
       "   'AUS',\n",
       "   '2016 [YR2016]',\n",
       "   '907555000',\n",
       "   '0.054648482520169',\n",
       "   '12.9']),\n",
       " (6,\n",
       "  ['Barbados',\n",
       "   'BRB',\n",
       "   '2014 [YR2014]',\n",
       "   '12175704025',\n",
       "   '129.629591844133',\n",
       "   '10.916']),\n",
       " (6,\n",
       "  ['Barbados',\n",
       "   'BRB',\n",
       "   '2015 [YR2015]',\n",
       "   '13365027241',\n",
       "   '141.413895259761',\n",
       "   '10.806']),\n",
       " (6,\n",
       "  ['Belarus',\n",
       "   'BLR',\n",
       "   '2014 [YR2014]',\n",
       "   '19781184418',\n",
       "   '24.5487262642116',\n",
       "   '12.5']),\n",
       " (6,\n",
       "  ['Belarus',\n",
       "   'BLR',\n",
       "   '2015 [YR2015]',\n",
       "   '33804450453.3197',\n",
       "   '37.5981780556757',\n",
       "   '12.5'])]"
      ]
     },
     "execution_count": 31,
     "metadata": {
      "tags": []
     },
     "output_type": "execute_result"
    }
   ],
   "source": [
    "#Podemos observar los registros de tamaño 6\n",
    "beta_desarrollo.map(lambda x: (len(x),x)).filter(lambda x: x[0] == 6).take(10)"
   ]
  },
  {
   "cell_type": "code",
   "execution_count": null,
   "metadata": {
    "id": "vG171aZ75XO_"
   },
   "outputs": [],
   "source": [
    "#recoemendacion de crear un vector de dimensiones por si más adelante es preciso aportar la proporcion de las estucturas\n",
    "longit_dll = beta_desarrollo.map(lambda x: (len(x), x))  "
   ]
  },
  {
   "cell_type": "code",
   "execution_count": null,
   "metadata": {
    "id": "NCytxc_NXiVe"
   },
   "outputs": [],
   "source": [
    "longit_deu = beta_deuda.map(lambda x: (len(x), x))"
   ]
  },
  {
   "cell_type": "code",
   "execution_count": null,
   "metadata": {
    "id": "udGFPXLv9no3"
   },
   "outputs": [],
   "source": [
    "#Creamos una función "
   ]
  },
  {
   "cell_type": "code",
   "execution_count": null,
   "metadata": {
    "id": "YFQcPtLV9nz9"
   },
   "outputs": [],
   "source": [
    "#definimos función donde si la linea es igual a 6 nos de la linea 1 \n",
    "def parseadito(line):                  \n",
    "    if line[0] == 6:\n",
    "        return line[1]\n",
    "    else:\n",
    "        l = line[1][1:]\n",
    "        return   l.insert(0, line[1][0]+line[1][1])  #no lo termine de entender bien"
   ]
  },
  {
   "cell_type": "code",
   "execution_count": null,
   "metadata": {
    "id": "R44po37h9n5C"
   },
   "outputs": [],
   "source": [
    "def parseadoto(line):              #revisar esto bien    \n",
    "    if line[0] == 27:\n",
    "        return line[1]\n",
    "    else:\n",
    "        l = line[1][1:]\n",
    "        return   l.insert(0, line[1][0]+line[1][1])"
   ]
  },
  {
   "cell_type": "code",
   "execution_count": null,
   "metadata": {
    "id": "gGWsDdAQ9n8o"
   },
   "outputs": [],
   "source": [
    "#Tamaño no siendo 6 las filtramos\n",
    "filter_6 = beta_desarrollo.filter(lambda x: (len(x) != 6))           "
   ]
  },
  {
   "cell_type": "code",
   "execution_count": null,
   "metadata": {
    "id": "ekgmkYdR9n_h"
   },
   "outputs": [],
   "source": [
    "#solo con los primeros vals\n",
    "filter_6 = filter_6.map(lambda x: (x[0],x[2],x[3],x[4],x[5],x[6]))   "
   ]
  },
  {
   "cell_type": "code",
   "execution_count": null,
   "metadata": {
    "id": "bMepGTj69oBm"
   },
   "outputs": [],
   "source": [
    "filtro_six = beta_desarrollo.filter(lambda x: (len(x)== 6))             "
   ]
  },
  {
   "cell_type": "code",
   "execution_count": null,
   "metadata": {
    "id": "0ydKNcxw9oEz"
   },
   "outputs": [],
   "source": [
    "#unimos las de 6 con las que solo nos habiamos queddo los primeros valores\n",
    "clean_beta_desarrollo = filter_6.union(filtro_six)                    "
   ]
  },
  {
   "cell_type": "code",
   "execution_count": null,
   "metadata": {
    "colab": {
     "base_uri": "https://localhost:8080/"
    },
    "id": "eJBTlxNn9oG9",
    "outputId": "79c45bb5-f693-4524-ac8a-716bcac33770"
   },
   "outputs": [
    {
     "data": {
      "text/plain": [
       "[('\"Bahamas',\n",
       "  'BHS',\n",
       "  '2014 [YR2014]',\n",
       "  '5158420000',\n",
       "  '47.2672793747079',\n",
       "  '14.34')]"
      ]
     },
     "execution_count": 42,
     "metadata": {
      "tags": []
     },
     "output_type": "execute_result"
    }
   ],
   "source": [
    "#nos cercioramos del proceso\n",
    "clean_beta_desarrollo.take(1)                                       "
   ]
  },
  {
   "cell_type": "code",
   "execution_count": null,
   "metadata": {
    "id": "I1KjHLTL9oJM"
   },
   "outputs": [],
   "source": [
    "#comprobamos tamaño"
   ]
  },
  {
   "cell_type": "code",
   "execution_count": null,
   "metadata": {
    "colab": {
     "base_uri": "https://localhost:8080/"
    },
    "id": "SuF6QSN89oMK",
    "outputId": "8bd1526c-618f-47cd-ee92-5e72d03ba6fa"
   },
   "outputs": [
    {
     "data": {
      "text/plain": [
       "1"
      ]
     },
     "execution_count": 43,
     "metadata": {
      "tags": []
     },
     "output_type": "execute_result"
    }
   ],
   "source": [
    "clean_beta_desarrollo.map(lambda x: (len(x))).distinct().count()   "
   ]
  },
  {
   "cell_type": "code",
   "execution_count": null,
   "metadata": {
    "id": "kSxuHm9M9oRL"
   },
   "outputs": [],
   "source": [
    "#Ahora el mismo proceso pero con la bese deuda"
   ]
  },
  {
   "cell_type": "code",
   "execution_count": null,
   "metadata": {
    "id": "0tsOEelM9oTo"
   },
   "outputs": [],
   "source": [
    "filter6Deu = beta_deuda.filter(lambda x: (len(x) != 27))                "
   ]
  },
  {
   "cell_type": "code",
   "execution_count": null,
   "metadata": {
    "id": "a-tOZlSQ9oWC"
   },
   "outputs": [],
   "source": [
    "filter6deuAlfa = filter6Deu.map(lambda x: (x[0],x[2:],x[3],x[4],x[5],x[6],x[7],x[8],x[9],x[10],x[11],x[12],x[13],x[14],x[15],x[16],x[17],x[18],x[19],x[20],x[21],x[22],x[23],x[24],x[25],x[26],x[27]))"
   ]
  },
  {
   "cell_type": "code",
   "execution_count": null,
   "metadata": {
    "id": "9y9IBAUv9oZ5"
   },
   "outputs": [],
   "source": [
    "filtro6Omega = beta_deuda.filter(lambda x: (len(x)== 27))"
   ]
  },
  {
   "cell_type": "code",
   "execution_count": null,
   "metadata": {
    "id": "66jl9A_y9odR"
   },
   "outputs": [],
   "source": [
    "clean_beta_deuda = filtro6Omega.union(filter6deuAlfa) #unimos"
   ]
  },
  {
   "cell_type": "code",
   "execution_count": null,
   "metadata": {
    "colab": {
     "base_uri": "https://localhost:8080/"
    },
    "id": "m_lCRjqY9ofa",
    "outputId": "c1fef400-22dc-4327-f84e-b1cfdfb1b5cf"
   },
   "outputs": [
    {
     "data": {
      "text/plain": [
       "[['Afghanistan',\n",
       "  'AFG',\n",
       "  '61739336.9',\n",
       "  '100847181.9',\n",
       "  '',\n",
       "  '39107845',\n",
       "  '100847181.9',\n",
       "  '',\n",
       "  '',\n",
       "  '',\n",
       "  '',\n",
       "  '49114729.4',\n",
       "  '72894453.7',\n",
       "  '23779724.3',\n",
       "  '72894453.7',\n",
       "  '',\n",
       "  '',\n",
       "  '',\n",
       "  '39903620.1',\n",
       "  '53239440.1',\n",
       "  '',\n",
       "  '13335820',\n",
       "  '53239440.1',\n",
       "  '',\n",
       "  '',\n",
       "  '',\n",
       "  '']]"
      ]
     },
     "execution_count": 49,
     "metadata": {
      "tags": []
     },
     "output_type": "execute_result"
    }
   ],
   "source": [
    "clean_beta_deuda.take(1)"
   ]
  },
  {
   "cell_type": "code",
   "execution_count": null,
   "metadata": {
    "id": "IxMbjSzS9oh2"
   },
   "outputs": [],
   "source": [
    "#nos cercioramos de su longitud"
   ]
  },
  {
   "cell_type": "code",
   "execution_count": null,
   "metadata": {
    "colab": {
     "base_uri": "https://localhost:8080/"
    },
    "id": "VgI-wiq0EGZH",
    "outputId": "3948557f-38f9-4374-d8b1-44fd04a80ac3"
   },
   "outputs": [
    {
     "data": {
      "text/plain": [
       "1"
      ]
     },
     "execution_count": 51,
     "metadata": {
      "tags": []
     },
     "output_type": "execute_result"
    }
   ],
   "source": [
    "#el bloque de datos se estructura como uno. perfecto.\n",
    "clean_beta_deuda.map(lambda x: (len(x))).distinct().count()                "
   ]
  },
  {
   "cell_type": "markdown",
   "metadata": {
    "id": "J3N_zEmaQ8JS"
   },
   "source": [
    "pregunta 2\n",
    "Número de países distintos en cada dataset. Coinciden?\n",
    "Solicitamos el numero de valores distintos que hay en la primera columna"
   ]
  },
  {
   "cell_type": "code",
   "execution_count": null,
   "metadata": {
    "id": "fYw5JOXZEGhK"
   },
   "outputs": [],
   "source": [
    "#pedimos valores de cada uno\n",
    "deuda_soberana = clean_beta_deuda.map(lambda x : x[0]).distinct()                  \n",
    "desarrollo_pais = clean_beta_desarrollo.map(lambda x: x[0]).distinct()                          "
   ]
  },
  {
   "cell_type": "code",
   "execution_count": null,
   "metadata": {
    "colab": {
     "base_uri": "https://localhost:8080/"
    },
    "id": "LYyhcKGAEGkG",
    "outputId": "bb6eaee2-74c5-4955-e562-9ea5fa800b86"
   },
   "outputs": [
    {
     "data": {
      "text/plain": [
       "(123, 51)"
      ]
     },
     "execution_count": 57,
     "metadata": {
      "tags": []
     },
     "output_type": "execute_result"
    }
   ],
   "source": [
    "#contamos\n",
    "deuda_soberana.count(),desarrollo_pais.count()                                      "
   ]
  },
  {
   "cell_type": "code",
   "execution_count": null,
   "metadata": {
    "colab": {
     "base_uri": "https://localhost:8080/"
    },
    "id": "CdgepHgAEGmh",
    "outputId": "4fb82252-5a8b-4039-b392-40bf137edc4a"
   },
   "outputs": [
    {
     "data": {
      "text/plain": [
       "['Belize',\n",
       " 'Botswana',\n",
       " 'Guatemala',\n",
       " 'Hungary',\n",
       " 'Palau',\n",
       " 'Russian Federation',\n",
       " 'Switzerland',\n",
       " 'Ukraine',\n",
       " 'United States',\n",
       " 'Uruguay',\n",
       " 'Zambia',\n",
       " 'Belarus',\n",
       " 'Georgia',\n",
       " 'Jamaica',\n",
       " 'Japan',\n",
       " 'Jordan',\n",
       " 'Moldova',\n",
       " 'Namibia',\n",
       " 'New Zealand',\n",
       " 'Papua New Guinea',\n",
       " 'Seychelles',\n",
       " 'Singapore',\n",
       " 'Spain',\n",
       " 'St. Lucia',\n",
       " 'Turkey',\n",
       " 'United Kingdom',\n",
       " '\"Bahamas',\n",
       " 'Albania',\n",
       " 'Australia',\n",
       " 'Barbados',\n",
       " 'Bhutan',\n",
       " 'Brazil',\n",
       " 'El Salvador',\n",
       " 'Ireland',\n",
       " 'Kazakhstan',\n",
       " 'Kyrgyz Republic',\n",
       " 'Malawi',\n",
       " 'Peru',\n",
       " 'Philippines',\n",
       " 'Solomon Islands',\n",
       " 'St. Kitts and Nevis',\n",
       " 'St. Vincent and the Grenadines',\n",
       " 'Thailand',\n",
       " '\"Korea',\n",
       " '\"Micronesia',\n",
       " 'Colombia',\n",
       " 'Indonesia',\n",
       " 'Malaysia',\n",
       " 'San Marino',\n",
       " 'Sri Lanka',\n",
       " 'Tonga']"
      ]
     },
     "execution_count": 58,
     "metadata": {
      "tags": []
     },
     "output_type": "execute_result"
    }
   ],
   "source": [
    "#Listado de paises de la bbdd: paises\n",
    "desarrollo_pais.distinct().collect()                           "
   ]
  },
  {
   "cell_type": "code",
   "execution_count": null,
   "metadata": {
    "id": "JgFaFd9tEGo9"
   },
   "outputs": [],
   "source": [
    "#Bahamas sigue con las comillas esas...........\n",
    "\n"
   ]
  },
  {
   "cell_type": "markdown",
   "metadata": {
    "id": "23J0Xm_CQshc"
   },
   "source": [
    "3. Total de deuda contraida por cada pais: total amount of debt (in USD) "
   ]
  },
  {
   "cell_type": "code",
   "execution_count": null,
   "metadata": {
    "colab": {
     "base_uri": "https://localhost:8080/"
    },
    "id": "qRtBK7LiEGsA",
    "outputId": "38a67753-6b6d-444b-ce72-92e00d05623c"
   },
   "outputs": [
    {
     "data": {
      "text/plain": [
       "[(('Bosnia and Herzegovina', '290170946.5'),\n",
       "  <pyspark.resultiterable.ResultIterable at 0x7fcb9b236710>),\n",
       " (('Brazil', '2514318741.6'),\n",
       "  <pyspark.resultiterable.ResultIterable at 0x7fcb9b236198>),\n",
       " (('Bulgaria', '228993019.8'),\n",
       "  <pyspark.resultiterable.ResultIterable at 0x7fcb9b221f28>),\n",
       " (('Burundi', '16115111.8'),\n",
       "  <pyspark.resultiterable.ResultIterable at 0x7fcb9b221748>),\n",
       " (('Central African Republic', '2241813.8'),\n",
       "  <pyspark.resultiterable.ResultIterable at 0x7fcb9b221b38>),\n",
       " (('Dominica', '11130355.8'),\n",
       "  <pyspark.resultiterable.ResultIterable at 0x7fcb9b221128>),\n",
       " (('Dominican Republic', '254728306.1'),\n",
       "  <pyspark.resultiterable.ResultIterable at 0x7fcb9b221e80>),\n",
       " (('El Salvador', '298939687.1'),\n",
       "  <pyspark.resultiterable.ResultIterable at 0x7fcb9b2212e8>),\n",
       " (('Georgia', '144062401.5'),\n",
       "  <pyspark.resultiterable.ResultIterable at 0x7fcb9b221358>),\n",
       " (('Grenada', '13740888.8'),\n",
       "  <pyspark.resultiterable.ResultIterable at 0x7fcb9b221080>),\n",
       " (('Guatemala', '339822253.6'),\n",
       "  <pyspark.resultiterable.ResultIterable at 0x7fcb9b2215f8>),\n",
       " (('Guyana', '34651806.5'),\n",
       "  <pyspark.resultiterable.ResultIterable at 0x7fcb9b221d30>),\n",
       " (('India', '4545609909.9'),\n",
       "  <pyspark.resultiterable.ResultIterable at 0x7fcb9b22c240>),\n",
       " (('Indonesia', '2469145824.7'),\n",
       "  <pyspark.resultiterable.ResultIterable at 0x7fcb9b22cc88>),\n",
       " (('Jordan', '270498715.5'),\n",
       "  <pyspark.resultiterable.ResultIterable at 0x7fcb9b22c208>),\n",
       " (('Mali', '135472245.9'),\n",
       "  <pyspark.resultiterable.ResultIterable at 0x7fcb9b236438>),\n",
       " (('Moldova', '135842865.5'),\n",
       "  <pyspark.resultiterable.ResultIterable at 0x7fcb9b22c9e8>),\n",
       " (('Mongolia', '75937145.9'),\n",
       "  <pyspark.resultiterable.ResultIterable at 0x7fcb9b22c5c0>),\n",
       " (('Nicaragua', '181115898'),\n",
       "  <pyspark.resultiterable.ResultIterable at 0x7fcb9b22c198>),\n",
       " (('Niger', '115132364.5'),\n",
       "  <pyspark.resultiterable.ResultIterable at 0x7fcb9b22c470>)]"
      ]
     },
     "execution_count": 59,
     "metadata": {
      "tags": []
     },
     "output_type": "execute_result"
    }
   ],
   "source": [
    "#Realizamos la agrupacion segundo la primera columna de paises y según DT.AMT.MLAT.CD\n",
    "deuda_soberana.take(20)\n",
    "deuda_soberana = clean_beta_deuda.groupBy(lambda x: (x[0],x[5]))      \n",
    "deuda_soberana.take(20)\n",
    "#despues del nombre pais sale el monto"
   ]
  },
  {
   "cell_type": "markdown",
   "metadata": {
    "id": "eBXcoaP3TB-K"
   },
   "source": [
    "4. Media de los indicadores de deuda (tabla uno): DT.AMT.BLAT.CD, DT.DIS.BLAT.CD, DT.INT.BLAT.CD"
   ]
  },
  {
   "cell_type": "code",
   "execution_count": null,
   "metadata": {
    "id": "AqdsNjoSEGxa"
   },
   "outputs": [],
   "source": [
    "#ponemos cero a los nan vacio o null\n",
    "#y despues a los otros los convertimos en tipo float\n",
    "def tofloat(x):\n",
    "        if x in [\"\", \" \",\"nan\",\"NULL\"]: \n",
    "            return 0.0\n",
    "        else:\n",
    "            return float(x)"
   ]
  },
  {
   "cell_type": "code",
   "execution_count": null,
   "metadata": {
    "colab": {
     "base_uri": "https://localhost:8080/"
    },
    "id": "grCkmtwHEG3X",
    "outputId": "73bfd22c-befa-4414-d01a-4f611cd9771a"
   },
   "outputs": [
    {
     "data": {
      "text/plain": [
       "701125769.5846772"
      ]
     },
     "execution_count": 61,
     "metadata": {
      "tags": []
     },
     "output_type": "execute_result"
    }
   ],
   "source": [
    "#nos vamos a la columna dos (x[2])) y despues le tiramos la media\n",
    "clean_beta_deuda.map(lambda x: tofloat(x[2])).mean()    "
   ]
  },
  {
   "cell_type": "code",
   "execution_count": null,
   "metadata": {
    "colab": {
     "base_uri": "https://localhost:8080/"
    },
    "id": "5URDXz2mEG6j",
    "outputId": "7b016533-0926-4b1f-b567-09ff10a01674"
   },
   "outputs": [
    {
     "data": {
      "text/plain": [
       "5904868401.499194"
      ]
     },
     "execution_count": 62,
     "metadata": {
      "tags": []
     },
     "output_type": "execute_result"
    }
   ],
   "source": [
    "#de la misma manera para vaias columns\n",
    "clean_beta_deuda.map(lambda x: tofloat(x[3])).mean()   "
   ]
  },
  {
   "cell_type": "markdown",
   "metadata": {
    "id": "ZKmdNt3uT3KJ"
   },
   "source": [
    "5. Los 20 paises con DT.AMT.DLXF.CD más alto\n",
    "\n"
   ]
  },
  {
   "cell_type": "code",
   "execution_count": null,
   "metadata": {
    "id": "S7MzEAtgEHGH"
   },
   "outputs": [],
   "source": [
    "maximos20 = clean_beta_deuda.sortBy(lambda x: tofloat(x[3]), ascending = False).map(lambda x: (x[0], tofloat(x[3])))\n",
    "#revisar como se componia esta linea"
   ]
  },
  {
   "cell_type": "code",
   "execution_count": null,
   "metadata": {
    "colab": {
     "base_uri": "https://localhost:8080/"
    },
    "id": "k8irNYD0EHI9",
    "outputId": "3aeaf674-f6e6-4228-cf6c-7d882eb509c3"
   },
   "outputs": [
    {
     "data": {
      "text/plain": [
       "[('China', 96218620835.7),\n",
       " ('Brazil', 90041840304.1),\n",
       " ('Russian Federation', 66589761833.5),\n",
       " ('Turkey', 51555031005.8),\n",
       " ('South Asia', 48756295898.2),\n",
       " ('India', 31923507000.8),\n",
       " ('Indonesia', 30916112653.8),\n",
       " ('Kazakhstan', 27482093686.4),\n",
       " ('Mexico', 25218503927.0),\n",
       " ('Least developed countries: UN classification', 25197029299.4),\n",
       " ('IDA only', 20483289208.0),\n",
       " ('Romania', 14013783350.4),\n",
       " ('Colombia', 11985674438.7),\n",
       " ('Angola', 11067045628.1),\n",
       " ('Cameroon', 10404814960.2),\n",
       " ('\"Venezuela', 9878659207.2),\n",
       " ('\"Egypt', 9692114176.9),\n",
       " ('Lebanon', 9506919669.6),\n",
       " ('South Africa', 9474257551.9),\n",
       " ('Vietnam', 8873505909.2)]"
      ]
     },
     "execution_count": 65,
     "metadata": {
      "tags": []
     },
     "output_type": "execute_result"
    }
   ],
   "source": [
    "# estan ordenados ya entonces pedimos los 20 primeros\n",
    "maximos20.take(20)        "
   ]
  },
  {
   "cell_type": "markdown",
   "metadata": {
    "id": "4MdTE6W_UZcm"
   },
   "source": [
    " 6. Pais con los datos informados todos los años."
   ]
  },
  {
   "cell_type": "code",
   "execution_count": null,
   "metadata": {
    "id": "p6_BOB_wEHQv"
   },
   "outputs": [],
   "source": [
    "indix = clean_beta_desarrollo.map(lambda x: (x[0],1)).reduceByKey(lambda x,y: x+y).sortBy(lambda x: x[1], False)\n",
    "\n",
    "#metemos contador y luego ordenamos descende\n",
    "#revisar el como metemos la unidad adicional\n"
   ]
  },
  {
   "cell_type": "code",
   "execution_count": null,
   "metadata": {
    "colab": {
     "base_uri": "https://localhost:8080/"
    },
    "id": "PdkKBWSaEHS0",
    "outputId": "64b9be13-62e1-466f-e4c8-e84540acc313"
   },
   "outputs": [
    {
     "data": {
      "text/plain": [
       "[('Malawi', 4),\n",
       " ('Botswana', 3),\n",
       " ('Guatemala', 3),\n",
       " ('Hungary', 3),\n",
       " ('Palau', 3),\n",
       " ('Russian Federation', 3),\n",
       " ('Switzerland', 3),\n",
       " ('Ukraine', 3),\n",
       " ('United States', 3),\n",
       " ('Uruguay', 3),\n",
       " ('Belarus', 3),\n",
       " ('Georgia', 3),\n",
       " ('Jamaica', 3),\n",
       " ('Japan', 3),\n",
       " ('Moldova', 3),\n",
       " ('New Zealand', 3),\n",
       " ('Singapore', 3),\n",
       " ('Spain', 3),\n",
       " ('Turkey', 3),\n",
       " ('United Kingdom', 3),\n",
       " ('\"Bahamas', 3),\n",
       " ('Albania', 3),\n",
       " ('Australia', 3),\n",
       " ('Bhutan', 3),\n",
       " ('Brazil', 3),\n",
       " ('El Salvador', 3),\n",
       " ('Ireland', 3),\n",
       " ('Kazakhstan', 3),\n",
       " ('Kyrgyz Republic', 3),\n",
       " ('Peru', 3),\n",
       " ('Solomon Islands', 3),\n",
       " ('\"Korea', 3),\n",
       " ('\"Micronesia', 3),\n",
       " ('Colombia', 3),\n",
       " ('Indonesia', 3),\n",
       " ('Malaysia', 3),\n",
       " ('Tonga', 3),\n",
       " ('Zambia', 2),\n",
       " ('Jordan', 2),\n",
       " ('Papua New Guinea', 2),\n",
       " ('Seychelles', 2),\n",
       " ('Barbados', 2),\n",
       " ('Thailand', 2),\n",
       " ('San Marino', 2),\n",
       " ('Sri Lanka', 2),\n",
       " ('Belize', 1),\n",
       " ('Namibia', 1),\n",
       " ('St. Lucia', 1),\n",
       " ('Philippines', 1),\n",
       " ('St. Kitts and Nevis', 1),\n",
       " ('St. Vincent and the Grenadines', 1)]"
      ]
     },
     "execution_count": 69,
     "metadata": {
      "tags": []
     },
     "output_type": "execute_result"
    }
   ],
   "source": [
    "indix.take(56)\n",
    "#malawi brinda 4 años de informacion, es el que mas"
   ]
  },
  {
   "cell_type": "markdown",
   "metadata": {
    "id": "RgvkvR0uVCqa"
   },
   "source": [
    "7. Media anual de los distintos indicadores de desarrollo"
   ]
  },
  {
   "cell_type": "code",
   "execution_count": null,
   "metadata": {
    "colab": {
     "base_uri": "https://localhost:8080/"
    },
    "id": "9-OCPeNTEHe_",
    "outputId": "dda18130-f26e-4eae-b622-fca505552895"
   },
   "outputs": [
    {
     "data": {
      "text/plain": [
       "103442758732953.22"
      ]
     },
     "execution_count": 70,
     "metadata": {
      "tags": []
     },
     "output_type": "execute_result"
    }
   ],
   "source": [
    "#filter + mean\n",
    "a2014 = clean_beta_desarrollo.filter(lambda x: x[2] == '2014 [YR2014]')\n",
    "a2014.map(lambda x: tofloat(x[3])).mean() "
   ]
  },
  {
   "cell_type": "code",
   "execution_count": null,
   "metadata": {
    "colab": {
     "base_uri": "https://localhost:8080/"
    },
    "id": "V3pe0sTOEHh6",
    "outputId": "f153fa7e-04a8-4fa7-9e4f-f97061f95e6f"
   },
   "outputs": [
    {
     "data": {
      "text/plain": [
       "131824403915902.5"
      ]
     },
     "execution_count": 71,
     "metadata": {
      "tags": []
     },
     "output_type": "execute_result"
    }
   ],
   "source": [
    "a2015 = clean_beta_desarrollo.filter(lambda x: x[2] == '2015 [YR2015]')\n",
    "a2015.map(lambda x: tofloat(x[3])).mean() "
   ]
  },
  {
   "cell_type": "code",
   "execution_count": null,
   "metadata": {
    "colab": {
     "base_uri": "https://localhost:8080/"
    },
    "id": "2fdi9zwOEHlH",
    "outputId": "9699ddb4-6f24-4f5f-ddfe-c646a1c4c3b9"
   },
   "outputs": [
    {
     "data": {
      "text/plain": [
       "158813821548065.94"
      ]
     },
     "execution_count": 73,
     "metadata": {
      "tags": []
     },
     "output_type": "execute_result"
    }
   ],
   "source": [
    "a2016 = clean_beta_desarrollo.filter(lambda x: x[2] == '2016 [YR2016]')\n",
    "a2016.map(lambda x: tofloat(x[3])).mean() "
   ]
  },
  {
   "cell_type": "code",
   "execution_count": null,
   "metadata": {
    "colab": {
     "base_uri": "https://localhost:8080/"
    },
    "id": "8GBauCf9EHvG",
    "outputId": "d874fdfc-0d96-407a-8d35-162c0296ad20"
   },
   "outputs": [
    {
     "data": {
      "text/plain": [
       "56.84391434438437"
      ]
     },
     "execution_count": 74,
     "metadata": {
      "tags": []
     },
     "output_type": "execute_result"
    }
   ],
   "source": [
    "#Ahora le metemos otra vez filter  con el porcentaje del pib... y tiramos la media\n",
    "pib2014 = clean_beta_desarrollo.filter(lambda x: x[2] == '2014 [YR2014]')\n",
    "pib2014.map(lambda x: tofloat(x[4])).mean() "
   ]
  },
  {
   "cell_type": "code",
   "execution_count": null,
   "metadata": {
    "colab": {
     "base_uri": "https://localhost:8080/"
    },
    "id": "74gNnKUrEHy7",
    "outputId": "9741ae3a-184b-4bb0-a631-4399b72711bd"
   },
   "outputs": [
    {
     "data": {
      "text/plain": [
       "58.36559834488035"
      ]
     },
     "execution_count": 75,
     "metadata": {
      "tags": []
     },
     "output_type": "execute_result"
    }
   ],
   "source": [
    "pib2015 = clean_beta_desarrollo.filter(lambda x: x[2] == '2015 [YR2015]')\n",
    "pib2015.map(lambda x: tofloat(x[4])).mean() "
   ]
  },
  {
   "cell_type": "code",
   "execution_count": null,
   "metadata": {
    "colab": {
     "base_uri": "https://localhost:8080/"
    },
    "id": "DmL1yAw4EH2E",
    "outputId": "8dc4cc32-344b-43a5-e4fd-19393ea12e84"
   },
   "outputs": [
    {
     "data": {
      "text/plain": [
       "58.796949624008356"
      ]
     },
     "execution_count": 76,
     "metadata": {
      "tags": []
     },
     "output_type": "execute_result"
    }
   ],
   "source": [
    "pib2016 = clean_beta_desarrollo.filter(lambda x: x[2] == '2016 [YR2016]')\n",
    "pib2016.map(lambda x: tofloat(x[4])).mean() "
   ]
  },
  {
   "cell_type": "code",
   "execution_count": null,
   "metadata": {
    "colab": {
     "base_uri": "https://localhost:8080/"
    },
    "id": "dmPc6n_fEH98",
    "outputId": "e08dea56-60f9-4452-b956-1d3289bff65e"
   },
   "outputs": [
    {
     "data": {
      "text/plain": [
       "17.582620000000002"
      ]
     },
     "execution_count": 77,
     "metadata": {
      "tags": []
     },
     "output_type": "execute_result"
    }
   ],
   "source": [
    "#Ahora para birth rate, crude (per 1,00 people) y tirmos media igual \n",
    "\n",
    "br_2014 = clean_beta_desarrollo.filter(lambda x: x[2] == '2014 [YR2014]')\n",
    "br_2014.map(lambda x: tofloat(x[5])).mean() "
   ]
  },
  {
   "cell_type": "code",
   "execution_count": null,
   "metadata": {
    "colab": {
     "base_uri": "https://localhost:8080/"
    },
    "id": "UWcApSMTEIAX",
    "outputId": "ede245de-a6e8-400c-f9dd-aef0d7fc7932"
   },
   "outputs": [
    {
     "data": {
      "text/plain": [
       "16.798477272727272"
      ]
     },
     "execution_count": 78,
     "metadata": {
      "tags": []
     },
     "output_type": "execute_result"
    }
   ],
   "source": [
    "br_2015 = clean_beta_desarrollo.filter(lambda x: x[2] == '2015 [YR2015]')\n",
    "br_2015.map(lambda x: tofloat(x[5])).mean() "
   ]
  },
  {
   "cell_type": "code",
   "execution_count": null,
   "metadata": {
    "colab": {
     "base_uri": "https://localhost:8080/"
    },
    "id": "qsmBMusyEIF6",
    "outputId": "cf76eee6-6031-4001-aa0e-9cc5637f8a5e"
   },
   "outputs": [
    {
     "data": {
      "text/plain": [
       "16.144333333333336"
      ]
     },
     "execution_count": 79,
     "metadata": {
      "tags": []
     },
     "output_type": "execute_result"
    }
   ],
   "source": [
    "br_2016 = clean_beta_desarrollo.filter(lambda x: x[2] == '2016 [YR2016]')\n",
    "br_2016.map(lambda x: tofloat(x[5])).mean() "
   ]
  },
  {
   "cell_type": "code",
   "execution_count": null,
   "metadata": {
    "id": "ygW0MWWFEIH1"
   },
   "outputs": [],
   "source": []
  },
  {
   "cell_type": "code",
   "execution_count": null,
   "metadata": {
    "colab": {
     "base_uri": "https://localhost:8080/"
    },
    "id": "MqGCK1DpFFiy",
    "outputId": "1c738751-481d-4bce-b226-c93c5da707d2"
   },
   "outputs": [
    {
     "data": {
      "text/plain": [
       "2239858619962.69"
      ]
     },
     "execution_count": 80,
     "metadata": {
      "tags": []
     },
     "output_type": "execute_result"
    }
   ],
   "source": [
    "#malawi es la que brinda los datos estos que como comprobamos antes era la unica con tantos años (4)\n",
    "a2017 = clean_beta_desarrollo.filter(lambda x: x[2] == '2017 [YR2017]')\n",
    "a2017.map(lambda x: tofloat(x[3])).mean()"
   ]
  },
  {
   "cell_type": "code",
   "execution_count": null,
   "metadata": {
    "colab": {
     "base_uri": "https://localhost:8080/"
    },
    "id": "G3W0RjsBFFnC",
    "outputId": "ce6f2ded-4bb3-4abc-c823-cf3444576622"
   },
   "outputs": [
    {
     "data": {
      "text/plain": [
       "48.659564238322"
      ]
     },
     "execution_count": 81,
     "metadata": {
      "tags": []
     },
     "output_type": "execute_result"
    }
   ],
   "source": [
    "pib2017 = clean_beta_desarrollo.filter(lambda x: x[2] == '2017 [YR2017]')\n",
    "pib2017.map(lambda x: tofloat(x[4])).mean() "
   ]
  },
  {
   "cell_type": "code",
   "execution_count": null,
   "metadata": {
    "colab": {
     "base_uri": "https://localhost:8080/"
    },
    "id": "tpgpwkEYFFsV",
    "outputId": "6fe9e2d4-5f67-49ea-836c-61792cf1ce3e"
   },
   "outputs": [
    {
     "data": {
      "text/plain": [
       "34.593"
      ]
     },
     "execution_count": 82,
     "metadata": {
      "tags": []
     },
     "output_type": "execute_result"
    }
   ],
   "source": [
    "br_2017 = clean_beta_desarrollo.filter(lambda x: x[2] == '2017 [YR2017]')\n",
    "br_2017.map(lambda x: tofloat(x[5])).mean() "
   ]
  },
  {
   "cell_type": "markdown",
   "metadata": {
    "id": "2cnZHgApW0LJ"
   },
   "source": [
    "8. Podrías decirme el total de deuda acumulada DT.AMT.MLAT.CD por los 10 países con un valor en media menor de SP.DYN.CBRT.IN"
   ]
  },
  {
   "cell_type": "code",
   "execution_count": null,
   "metadata": {
    "id": "TBzWMWNvFFyk"
   },
   "outputs": [],
   "source": [
    "#falta la 9 también"
   ]
  },
  {
   "cell_type": "code",
   "execution_count": null,
   "metadata": {
    "id": "vCz3eG1uFF5w"
   },
   "outputs": [],
   "source": []
  },
  {
   "cell_type": "code",
   "execution_count": null,
   "metadata": {
    "id": "Ds8047WCFF91"
   },
   "outputs": [],
   "source": []
  },
  {
   "cell_type": "code",
   "execution_count": null,
   "metadata": {
    "id": "S3VaVSjAFGCU"
   },
   "outputs": [],
   "source": []
  },
  {
   "cell_type": "code",
   "execution_count": null,
   "metadata": {
    "id": "wf31cXf_FGE2"
   },
   "outputs": [],
   "source": []
  },
  {
   "cell_type": "code",
   "execution_count": null,
   "metadata": {
    "id": "i7PwnrjJFGHT"
   },
   "outputs": [],
   "source": []
  },
  {
   "cell_type": "code",
   "execution_count": null,
   "metadata": {
    "id": "P16SuUhDFGJx"
   },
   "outputs": [],
   "source": []
  },
  {
   "cell_type": "code",
   "execution_count": null,
   "metadata": {
    "id": "D0eC0BN_FGMV"
   },
   "outputs": [],
   "source": []
  },
  {
   "cell_type": "code",
   "execution_count": null,
   "metadata": {
    "id": "7T4058C3FGQJ"
   },
   "outputs": [],
   "source": []
  }
 ],
 "metadata": {
  "colab": {
   "collapsed_sections": [],
   "name": "Copia de ETL",
   "provenance": []
  },
  "kernelspec": {
   "display_name": "Python 3",
   "language": "python",
   "name": "python3"
  },
  "language_info": {
   "codemirror_mode": {
    "name": "ipython",
    "version": 3
   },
   "file_extension": ".py",
   "mimetype": "text/x-python",
   "name": "python",
   "nbconvert_exporter": "python",
   "pygments_lexer": "ipython3",
   "version": "3.8.3"
  }
 },
 "nbformat": 4,
 "nbformat_minor": 1
}
